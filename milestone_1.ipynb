{
  "nbformat": 4,
  "nbformat_minor": 0,
  "metadata": {
    "colab": {
      "provenance": [],
      "authorship_tag": "ABX9TyP/jyyX5OKIpTWbC/ZiIGE+",
      "include_colab_link": true
    },
    "kernelspec": {
      "name": "python3",
      "display_name": "Python 3"
    },
    "language_info": {
      "name": "python"
    }
  },
  "cells": [
    {
      "cell_type": "markdown",
      "metadata": {
        "id": "view-in-github",
        "colab_type": "text"
      },
      "source": [
        "<a href=\"https://colab.research.google.com/github/rsztjnxz/milestone-11/blob/main/milestone_1.ipynb\" target=\"_parent\"><img src=\"https://colab.research.google.com/assets/colab-badge.svg\" alt=\"Open In Colab\"/></a>"
      ]
    },
    {
      "cell_type": "code",
      "execution_count": null,
      "metadata": {
        "id": "IJABaMxu0efZ"
      },
      "outputs": [],
      "source": [
        "(base) zlx@zlxdeMBP ~ % git clone https://github.com/opencv/cvat\n"
      ]
    },
    {
      "cell_type": "code",
      "source": [
        "(base) zlx@zlxdeMBP ~ % cd cvat\n"
      ],
      "metadata": {
        "id": "Lc10sJSO0pJJ"
      },
      "execution_count": null,
      "outputs": []
    },
    {
      "cell_type": "code",
      "source": [
        "(base) zlx@zlxdeMBP cvat % docker-compose up -d\n"
      ],
      "metadata": {
        "id": "dqVBAzMK0zCC"
      },
      "execution_count": null,
      "outputs": []
    },
    {
      "cell_type": "code",
      "source": [
        "(base) zlx@zlxdeMBP cvat % CVAT_VERSION=dev docker-compose up -d\n"
      ],
      "metadata": {
        "id": "gxVYZDa_06cg"
      },
      "execution_count": null,
      "outputs": []
    },
    {
      "cell_type": "code",
      "source": [
        "(base) zlx@zlxdeMBP cvat % docker exec -it cvat_server bash -ic 'python3 ~/manage.py createsuperuser'"
      ],
      "metadata": {
        "id": "hSEqdsNl09DJ"
      },
      "execution_count": null,
      "outputs": []
    },
    {
      "cell_type": "markdown",
      "source": [],
      "metadata": {
        "id": "IN0Jl6oS5Oru"
      }
    },
    {
      "cell_type": "markdown",
      "source": [
        "![](https://drive.google.com/uc?export=view&id=1XtgV-ROQWaLlpQpSfB3Ynpixy6ICVsQY)"
      ],
      "metadata": {
        "id": "-B9Zi2nD1dhd"
      }
    }
  ]
}